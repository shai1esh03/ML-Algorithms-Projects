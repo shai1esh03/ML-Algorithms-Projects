{
 "cells": [
  {
   "cell_type": "markdown",
   "metadata": {},
   "source": [
    "This exercise will require you to pull some data from the Qunadl API. Qaundl is currently the most widely used aggregator of financial market data."
   ]
  },
  {
   "cell_type": "markdown",
   "metadata": {},
   "source": [
    "As a first step, you will need to register a free account on the http://www.quandl.com website."
   ]
  },
  {
   "cell_type": "markdown",
   "metadata": {},
   "source": [
    "After you register, you will be provided with a unique API key, that you should store:"
   ]
  },
  {
   "cell_type": "code",
   "execution_count": 1,
   "metadata": {},
   "outputs": [],
   "source": [
    "# Store the API key as a string - according to PEP8, constants are always named in all upper case\n",
    "API_KEY = ' '"
   ]
  },
  {
   "cell_type": "markdown",
   "metadata": {},
   "source": [
    "Qaundl has a large number of data sources, but, unfortunately, most of them require a Premium subscription. Still, there are also a good number of free datasets."
   ]
  },
  {
   "cell_type": "markdown",
   "metadata": {},
   "source": [
    "For this mini project, we will focus on equities data from the Frankfurt Stock Exhange (FSE), which is available for free. We'll try and analyze the stock prices of a company called Carl Zeiss Meditec, which manufactures tools for eye examinations, as well as medical lasers for laser eye surgery: https://www.zeiss.com/meditec/int/home.html. The company is listed under the stock ticker AFX_X."
   ]
  },
  {
   "cell_type": "markdown",
   "metadata": {},
   "source": [
    "You can find the detailed Quandl API instructions here: https://docs.quandl.com/docs/time-series"
   ]
  },
  {
   "cell_type": "markdown",
   "metadata": {},
   "source": [
    "While there is a dedicated Python package for connecting to the Quandl API, we would prefer that you use the *requests* package, which can be easily downloaded using *pip* or *conda*. You can find the documentation for the package here: http://docs.python-requests.org/en/master/ "
   ]
  },
  {
   "cell_type": "markdown",
   "metadata": {},
   "source": [
    "Finally, apart from the *requests* package, you are encouraged to not use any third party Python packages, such as *pandas*, and instead focus on what's available in the Python Standard Library (the *collections* module might come in handy: https://pymotw.com/3/collections/ ).\n",
    "Also, since you won't have access to DataFrames, you are encouraged to us Python's native data structures - preferably dictionaries, though some questions can also be answered using lists.\n",
    "You can read more on these data structures here: https://docs.python.org/3/tutorial/datastructures.html"
   ]
  },
  {
   "cell_type": "markdown",
   "metadata": {},
   "source": [
    "Keep in mind that the JSON responses you will be getting from the API map almost one-to-one to Python's dictionaries. Unfortunately, they can be very nested, so make sure you read up on indexing dictionaries in the documentation provided above."
   ]
  },
  {
   "cell_type": "code",
   "execution_count": 2,
   "metadata": {},
   "outputs": [],
   "source": [
    "# First, import the relevant modules\n",
    "import matplotlib.pyplot as plt\n",
    "import requests\n",
    "import quandl\n",
    "import json"
   ]
  },
  {
   "cell_type": "code",
   "execution_count": 3,
   "metadata": {},
   "outputs": [],
   "source": [
    "# Now, call the Quandl API and pull out a small sample of the data (only one day) to get a glimpse\n",
    "# into the JSON structure that will be returned\n",
    "quandl.ApiConfig.api_key = API_KEY\n",
    "url = 'https://www.quandl.com/api/v3/datasets/FSE/AFX_X.json?start_date=2020-04-01&end_date=2020-04-01&?api_key= '\n",
    "response = requests.get(url)    \n",
    "diction = response.json()\n",
    "#zeiss = quandl.get('FSE/AFX_X', start_date=\"2020-04-01\", end_date=\"2020-04-01\")"
   ]
  },
  {
   "cell_type": "code",
   "execution_count": 4,
   "metadata": {},
   "outputs": [
    {
     "data": {
      "text/plain": [
       "{'dataset': {'id': 10095370,\n",
       "  'dataset_code': 'AFX_X',\n",
       "  'database_code': 'FSE',\n",
       "  'name': 'Carl Zeiss Meditec (AFX_X)',\n",
       "  'description': 'Stock Prices for Carl Zeiss Meditec (2020-04-22) from the Frankfurt Stock Exchange.<br><br>Trading System: Xetra<br><br>ISIN: DE0005313704',\n",
       "  'refreshed_at': '2020-05-06T22:16:23.185Z',\n",
       "  'newest_available_date': '2020-05-06',\n",
       "  'oldest_available_date': '2000-06-07',\n",
       "  'column_names': ['Date',\n",
       "   'Open',\n",
       "   'High',\n",
       "   'Low',\n",
       "   'Close',\n",
       "   'Change',\n",
       "   'Traded Volume',\n",
       "   'Turnover',\n",
       "   'Last Price of the Day',\n",
       "   'Daily Traded Units',\n",
       "   'Daily Turnover'],\n",
       "  'frequency': 'daily',\n",
       "  'type': 'Time Series',\n",
       "  'premium': False,\n",
       "  'limit': None,\n",
       "  'transform': None,\n",
       "  'column_index': None,\n",
       "  'start_date': '2020-04-01',\n",
       "  'end_date': '2020-04-01',\n",
       "  'data': [['2020-04-01',\n",
       "    86.5,\n",
       "    86.9,\n",
       "    85.0,\n",
       "    86.1,\n",
       "    None,\n",
       "    192187.0,\n",
       "    16541381.35,\n",
       "    None,\n",
       "    None,\n",
       "    None]],\n",
       "  'collapse': None,\n",
       "  'order': None,\n",
       "  'database_id': 6129}}"
      ]
     },
     "execution_count": 4,
     "metadata": {},
     "output_type": "execute_result"
    }
   ],
   "source": [
    "# Inspect the JSON structure of the object you created, and take note of how nested it is,\n",
    "# as well as the overall structure\n",
    "diction"
   ]
  },
  {
   "cell_type": "markdown",
   "metadata": {},
   "source": [
    "These are your tasks for this mini project:\n",
    "\n",
    "1. Collect data from the Franfurt Stock Exchange, for the ticker AFX_X, for the whole year 2017 (keep in mind that the date format is YYYY-MM-DD).\n",
    "2. Convert the returned JSON object into a Python dictionary.\n",
    "3. Calculate what the highest and lowest opening prices were for the stock in this period.\n",
    "4. What was the largest change in any one day (based on High and Low price)?\n",
    "5. What was the largest change between any two days (based on Closing Price)?\n",
    "6. What was the average daily trading volume during this year?\n",
    "7. (Optional) What was the median trading volume during this year. (Note: you may need to implement your own function for calculating the median.)"
   ]
  },
  {
   "cell_type": "code",
   "execution_count": 5,
   "metadata": {},
   "outputs": [],
   "source": [
    "urls = 'https://www.quandl.com/api/v3/datasets/FSE/AFX_X.json?start_date=2017-01-01&end_date=2017-12-31'\n",
    "responses = requests.get(urls)\n",
    "zeiss_y = responses.json()"
   ]
  },
  {
   "cell_type": "code",
   "execution_count": 6,
   "metadata": {},
   "outputs": [
    {
     "data": {
      "text/plain": [
       "dict"
      ]
     },
     "execution_count": 6,
     "metadata": {},
     "output_type": "execute_result"
    }
   ],
   "source": [
    "# zeiss_y is embedded as dictionary type, when an JSON type object is downloaded\n",
    "type(zeiss_y)"
   ]
  },
  {
   "cell_type": "code",
   "execution_count": 7,
   "metadata": {},
   "outputs": [
    {
     "data": {
      "text/plain": [
       "list"
      ]
     },
     "execution_count": 7,
     "metadata": {},
     "output_type": "execute_result"
    }
   ],
   "source": [
    "# various lists are in dictionary zeiss_y\n",
    "data = zeiss_y['dataset']['data']\n",
    "type(data)        "
   ]
  },
  {
   "cell_type": "raw",
   "metadata": {},
   "source": [
    "data[0] represents collection of list of values traded in a single day ;\n",
    "data[0][0] represents 1st element in the list i.e Date ;\n",
    "data[0][1] Opening Price ;\n",
    "data[0][2] Highest Price during the day ;\n",
    "data[0][3] Lowest Price during the day ;\n",
    "data[0][4] Closing price of the day ;\n",
    "data[0][6] Traded Volume during the day ;"
   ]
  },
  {
   "cell_type": "code",
   "execution_count": 8,
   "metadata": {},
   "outputs": [],
   "source": [
    "open_price =[]    # empty list to store daily Open Prices\n",
    "for price in data:    \n",
    "        open_price.append(price[1])"
   ]
  },
  {
   "cell_type": "code",
   "execution_count": 9,
   "metadata": {},
   "outputs": [
    {
     "name": "stdout",
     "output_type": "stream",
     "text": [
      "[None, None, None]\n",
      "[51.76, 51.65, 51.45, 51.05, 51.16, 51.88, 52.73, 52.37, 52.7, 53.11, 52.64, 52.29, 52.28, 51.5, 50.89, 50.8, 51.21, 49.5, 49.52, 48.64, 49.64, 49.09, 49.13, 49.11, 48.8, 48.4, 47.25, 46.57, 47.03, 47.09, 47.98, 48.4, 48.38, 47.3, 47.65, 46.42, 46.16, 45.81, 45.0, 45.88, 46.29, 46.53, 45.48, 45.2, 45.01, 45.16, 44.9, 45.08, 45.72, 46.01, 45.8, 45.61, 45.5, 45.58, 45.97, 45.64, 46.2, 46.19, 46.01, 45.36, 44.51, 43.58, 42.0, 42.35, 42.3, 42.3, 41.48, 42.29, 42.54, 42.65, 42.5, 42.29, 42.35, 42.49, 43.21, 42.81, 42.7, 43.0, 42.66, 43.0, 42.38, 42.16, 42.0, 42.0, 41.71, 42.11, 42.64, 42.72, 42.82, 42.46, 42.42, 42.28, 41.88, 42.4, 42.53, 42.12, 41.3, 41.73, 43.5, 44.9, 45.85, 45.13, 45.34, 45.25, 45.24, 44.94, 45.26, 45.16, 44.91, 44.7, 45.31, 45.57, 45.74, 45.06, 45.5, 45.6, 45.07, 44.67, 44.29, 44.94, 44.64, 44.79, 45.5, 44.67, 45.83, 45.29, 45.01, 45.73, 46.68, 47.23, 46.95, 47.29, 47.03, 47.46, 46.48, 46.9, 45.66, 46.34, 46.52, 46.5, 47.31, 46.77, 47.8, 47.01, 47.12, 46.8, 46.12, 45.22, 45.05, 45.61, 44.8, 44.8, 43.92, 43.67, 44.16, 43.74, 44.0, 45.06, 45.15, 45.09, 45.18, 43.4, 43.5, 41.83, 43.0, 42.52, 41.86, 42.2, 41.89, 42.17, 41.51, 41.88, 41.93, 42.01, 41.97, 42.5, 41.94, 42.24, 42.06, 42.02, 41.62, 41.46, 40.9, 40.96, 41.1, 39.5, 40.15, 39.77, 40.02, 39.39, 38.95, 38.73, 38.94, 39.01, 38.25, 41.8, 41.26, 41.47, 41.4, 41.4, 41.2, 41.4, 41.53, 41.61, 41.13, 41.5, 41.25, 41.12, 41.38, 41.19, 40.38, 39.75, 39.77, 39.72, 39.6, 38.85, 39.25, 38.8, 38.8, 38.5, 38.81, 37.37, 36.65, 36.2, 35.98, 35.56, 36.06, 36.02, 35.95, 34.75, 35.24, 35.38, 34.83, 35.07, 34.42, 34.0, 34.04, 34.54, 35.04, 35.04, 35.06, 34.85, 34.98, 35.38, 34.95, 34.8, 35.29, 34.91, 35.02, 35.48, 35.9, 34.99]\n"
     ]
    }
   ],
   "source": [
    "empty = []     # Empty list to store None values\n",
    "price_list = []   # to store Opening Prices without None Values\n",
    "for i in open_price:\n",
    "    if i == (None):\n",
    "        empty.append(i)\n",
    "    else:\n",
    "        price_list.append(i)\n",
    "print(empty)\n",
    "print(price_list)"
   ]
  },
  {
   "cell_type": "code",
   "execution_count": 10,
   "metadata": {},
   "outputs": [],
   "source": [
    "#sorting of opening prices stored in list. it is easy to find maximum and minimum values from sorted list by using max, min\n",
    "price_sort = sorted(price_list, key=lambda x:float(x))"
   ]
  },
  {
   "cell_type": "code",
   "execution_count": 11,
   "metadata": {},
   "outputs": [
    {
     "name": "stdout",
     "output_type": "stream",
     "text": [
      "The Highest Stock Price for Year 2017 is : 53.11\n"
     ]
    }
   ],
   "source": [
    "print('The Highest Stock Price for Year 2017 is :', max(price_sort))"
   ]
  },
  {
   "cell_type": "code",
   "execution_count": 12,
   "metadata": {},
   "outputs": [
    {
     "name": "stdout",
     "output_type": "stream",
     "text": [
      "The Lowest Stock Price for Year 2017 is : 34.0\n"
     ]
    }
   ],
   "source": [
    "print('The Lowest Stock Price for Year 2017 is :', min(price_sort))"
   ]
  },
  {
   "cell_type": "code",
   "execution_count": 13,
   "metadata": {},
   "outputs": [],
   "source": [
    "date = []    # Date of trading day\n",
    "high = []    # Highest Price during day\n",
    "low = []     # Lowest Price during day\n",
    "l_close = {} # empty dictionary to store closing price\n",
    "large = {}   # Dictionary to store largest diff between high and low price during the day\n",
    "vol = {}\n",
    "for hi_lo in data:\n",
    "    date.append(hi_lo[0])          # appending date to date list\n",
    "    high.append(hi_lo[2])          # appending high price\n",
    "    low.append(hi_lo[3])           # appending low price\n",
    "    diff1 = hi_lo[2] - hi_lo[3]    # Difference between high and low price\n",
    "    large[hi_lo[0]] = diff1        # storing difference values\n",
    "    l_close[hi_lo[0]] = hi_lo[4]   # storing closing prices\n",
    "    vol[hi_lo[0]] = hi_lo[6]       # storing volumes traded during the day"
   ]
  },
  {
   "cell_type": "code",
   "execution_count": 14,
   "metadata": {},
   "outputs": [
    {
     "name": "stdout",
     "output_type": "stream",
     "text": [
      "The largest change in any one day (based on High and Low price) is : 2.8100000000000023\n"
     ]
    }
   ],
   "source": [
    "print('The largest change in any one day (based on High and Low price) is :', large[max(large, key=large.get)])"
   ]
  },
  {
   "cell_type": "code",
   "execution_count": 16,
   "metadata": {},
   "outputs": [],
   "source": [
    "last = []\n",
    "for key, value in sorted(l_close.items()):\n",
    "    last.append(value)"
   ]
  },
  {
   "cell_type": "code",
   "execution_count": 17,
   "metadata": {},
   "outputs": [
    {
     "ename": "IndexError",
     "evalue": "list index out of range",
     "output_type": "error",
     "traceback": [
      "\u001b[0;31m---------------------------------------------------------------------------\u001b[0m",
      "\u001b[0;31mIndexError\u001b[0m                                Traceback (most recent call last)",
      "\u001b[0;32m<ipython-input-17-5826307adaee>\u001b[0m in \u001b[0;36m<module>\u001b[0;34m\u001b[0m\n\u001b[1;32m      1\u001b[0m \u001b[0mtd\u001b[0m \u001b[0;34m=\u001b[0m \u001b[0;34m[\u001b[0m\u001b[0;34m]\u001b[0m\u001b[0;34m\u001b[0m\u001b[0;34m\u001b[0m\u001b[0m\n\u001b[1;32m      2\u001b[0m \u001b[0;32mfor\u001b[0m \u001b[0mi\u001b[0m \u001b[0;32min\u001b[0m \u001b[0mrange\u001b[0m\u001b[0;34m(\u001b[0m\u001b[0mlen\u001b[0m\u001b[0;34m(\u001b[0m\u001b[0mlast\u001b[0m\u001b[0;34m)\u001b[0m\u001b[0;34m)\u001b[0m\u001b[0;34m:\u001b[0m\u001b[0;34m\u001b[0m\u001b[0;34m\u001b[0m\u001b[0m\n\u001b[0;32m----> 3\u001b[0;31m     \u001b[0mdf\u001b[0m \u001b[0;34m=\u001b[0m \u001b[0mlast\u001b[0m\u001b[0;34m[\u001b[0m\u001b[0mi\u001b[0m\u001b[0;34m]\u001b[0m \u001b[0;34m-\u001b[0m \u001b[0mlast\u001b[0m\u001b[0;34m[\u001b[0m\u001b[0mi\u001b[0m\u001b[0;34m+\u001b[0m\u001b[0;36m1\u001b[0m\u001b[0;34m]\u001b[0m\u001b[0;34m\u001b[0m\u001b[0;34m\u001b[0m\u001b[0m\n\u001b[0m\u001b[1;32m      4\u001b[0m     \u001b[0mtd\u001b[0m\u001b[0;34m.\u001b[0m\u001b[0mappend\u001b[0m\u001b[0;34m(\u001b[0m\u001b[0mdf\u001b[0m\u001b[0;34m)\u001b[0m\u001b[0;34m\u001b[0m\u001b[0;34m\u001b[0m\u001b[0m\n",
      "\u001b[0;31mIndexError\u001b[0m: list index out of range"
     ]
    }
   ],
   "source": [
    "td = []\n",
    "for i in range(len(last)):\n",
    "    df = last[i] - last[i+1]\n",
    "    td.append(df)"
   ]
  },
  {
   "cell_type": "code",
   "execution_count": 18,
   "metadata": {},
   "outputs": [
    {
     "name": "stdout",
     "output_type": "stream",
     "text": [
      "[-1.7199999999999989, -1.5200000000000031, -1.4699999999999989, -1.3799999999999955, -1.3500000000000014, -1.2800000000000011, -1.2100000000000009, -1.1700000000000017, -1.1699999999999946, -1.1300000000000026, -1.1300000000000026, -1.0599999999999952, -1.0, -0.9600000000000009, -0.9500000000000028, -0.8100000000000023, -0.8099999999999952, -0.7899999999999991, -0.75, -0.7299999999999969, -0.7000000000000028, -0.6999999999999957, -0.6600000000000037, -0.6600000000000037, -0.6599999999999966, -0.6499999999999986, -0.6499999999999986, -0.6300000000000026, -0.6299999999999955, -0.6099999999999994, -0.6099999999999994, -0.6099999999999994, -0.6099999999999994, -0.6000000000000014, -0.6000000000000014, -0.5799999999999983, -0.5799999999999983, -0.5700000000000003, -0.519999999999996, -0.5100000000000051, -0.509999999999998, -0.5, -0.490000000000002, -0.47000000000000597, -0.46999999999999886, -0.45000000000000284, -0.45000000000000284, -0.45000000000000284, -0.45000000000000284, -0.4399999999999977, -0.4299999999999997, -0.4100000000000037, -0.4099999999999966, -0.4099999999999966, -0.4099999999999966, -0.4000000000000057, -0.39000000000000057, -0.37000000000000455, -0.36999999999999744, -0.35999999999999943, -0.35999999999999943, -0.3500000000000014, -0.3399999999999963, -0.3299999999999983, -0.3100000000000023, -0.3100000000000023, -0.29999999999999716, -0.29999999999999716, -0.28999999999999915, -0.28999999999999915, -0.28000000000000114, -0.269999999999996, -0.259999999999998, -0.259999999999998, -0.259999999999998, -0.25, -0.25, -0.25, -0.25, -0.23999999999999488, -0.23999999999999488, -0.22999999999999687, -0.22000000000000597, -0.21999999999999886, -0.21999999999999886, -0.21999999999999886, -0.21000000000000085, -0.21000000000000085, -0.20000000000000284, -0.19999999999999574, -0.19000000000000483, -0.17999999999999972, -0.1700000000000017, -0.1700000000000017, -0.1699999999999946, -0.1599999999999966, -0.1599999999999966, -0.1599999999999966, -0.1599999999999966, -0.15000000000000568, -0.14999999999999858, -0.14999999999999858, -0.14999999999999858, -0.14000000000000057, -0.14000000000000057, -0.13000000000000256, -0.13000000000000256, -0.12999999999999545, -0.10999999999999943, -0.10999999999999943, -0.10000000000000142, -0.10000000000000142, -0.09000000000000341, -0.09000000000000341, -0.0899999999999963, -0.0899999999999963, -0.0899999999999963, -0.0799999999999983, -0.07000000000000028, -0.07000000000000028, -0.07000000000000028, -0.060000000000002274, -0.05999999999999517, -0.04999999999999716, -0.030000000000001137, -0.020000000000003126, -0.020000000000003126, -0.020000000000003126, -0.020000000000003126, -0.020000000000003126, -0.01999999999999602, -0.00999999999999801, -0.00999999999999801, -0.00999999999999801, -0.00999999999999801, -0.00999999999999801, 0.0, 0.0, 0.0, 0.0, 0.0, 0.0, 0.0, 0.0, 0.0, 0.0, 0.00999999999999801, 0.00999999999999801, 0.01999999999999602, 0.01999999999999602, 0.01999999999999602, 0.020000000000003126, 0.020000000000003126, 0.020000000000003126, 0.030000000000001137, 0.030000000000001137, 0.03999999999999915, 0.04000000000000625, 0.04999999999999716, 0.04999999999999716, 0.04999999999999716, 0.04999999999999716, 0.05000000000000426, 0.05999999999999517, 0.060000000000002274, 0.07000000000000028, 0.0799999999999983, 0.0799999999999983, 0.0899999999999963, 0.0899999999999963, 0.09000000000000341, 0.09000000000000341, 0.09000000000000341, 0.10000000000000142, 0.10000000000000142, 0.10000000000000142, 0.10999999999999943, 0.10999999999999943, 0.11999999999999744, 0.12000000000000455, 0.12999999999999545, 0.13000000000000256, 0.13000000000000256, 0.14999999999999858, 0.14999999999999858, 0.14999999999999858, 0.14999999999999858, 0.1600000000000037, 0.1600000000000037, 0.18999999999999773, 0.18999999999999773, 0.20000000000000284, 0.21000000000000085, 0.21999999999999886, 0.21999999999999886, 0.23000000000000398, 0.23000000000000398, 0.25, 0.259999999999998, 0.259999999999998, 0.259999999999998, 0.27999999999999403, 0.27999999999999403, 0.28000000000000114, 0.28000000000000114, 0.28999999999999915, 0.29999999999999716, 0.3200000000000003, 0.3299999999999983, 0.3299999999999983, 0.3399999999999963, 0.3400000000000034, 0.35999999999999943, 0.36999999999999744, 0.37999999999999545, 0.38000000000000256, 0.38999999999999346, 0.39000000000000057, 0.3999999999999986, 0.4200000000000017, 0.4399999999999977, 0.44999999999999574, 0.46000000000000085, 0.4799999999999969, 0.5, 0.5, 0.509999999999998, 0.5200000000000031, 0.5300000000000011, 0.5499999999999972, 0.5500000000000043, 0.5700000000000003, 0.5899999999999963, 0.5900000000000034, 0.5900000000000034, 0.6000000000000014, 0.6099999999999994, 0.6499999999999986, 0.6599999999999966, 0.6600000000000037, 0.6799999999999997, 0.769999999999996, 0.7700000000000031, 0.8299999999999983, 0.9500000000000028, 0.9500000000000028, 0.9600000000000009, 0.990000000000002, 1.1200000000000045, 1.1299999999999955, 1.1499999999999986, 1.1599999999999966, 2.039999999999999, 2.559999999999995]\n"
     ]
    }
   ],
   "source": [
    "td_sort = sorted(td, key=lambda x:float(x))\n",
    "print(td_sort)"
   ]
  },
  {
   "cell_type": "code",
   "execution_count": 19,
   "metadata": {},
   "outputs": [
    {
     "name": "stdout",
     "output_type": "stream",
     "text": [
      "The Largest change between any two days (based on Closing Price)is : 2.559999999999995\n"
     ]
    }
   ],
   "source": [
    "print('The Largest change between any two days (based on Closing Price)is :', max(td_sort))"
   ]
  },
  {
   "cell_type": "code",
   "execution_count": 20,
   "metadata": {},
   "outputs": [],
   "source": [
    "average = sum(i for i in vol.values())/len(vol)"
   ]
  },
  {
   "cell_type": "code",
   "execution_count": 21,
   "metadata": {},
   "outputs": [
    {
     "name": "stdout",
     "output_type": "stream",
     "text": [
      "The Average daily trading volume during the year 2017 is : 89124.33725490196\n"
     ]
    }
   ],
   "source": [
    "print('The Average daily trading volume during the year 2017 is :', average)"
   ]
  },
  {
   "cell_type": "code",
   "execution_count": 22,
   "metadata": {},
   "outputs": [],
   "source": [
    "med = list(vol.values())\n",
    "med_sort = sorted(med, key=lambda x:float(x))"
   ]
  },
  {
   "cell_type": "code",
   "execution_count": 23,
   "metadata": {},
   "outputs": [],
   "source": [
    "def median(med):\n",
    "    x = len(med)\n",
    "    if (x % 2 == 0):\n",
    "        a = int(x/2)\n",
    "        b = med[a]\n",
    "        return b\n",
    "    else:\n",
    "        a = int(x/2 +1)\n",
    "        b = med[a]\n",
    "        return b"
   ]
  },
  {
   "cell_type": "code",
   "execution_count": 24,
   "metadata": {
    "scrolled": false
   },
   "outputs": [
    {
     "name": "stdout",
     "output_type": "stream",
     "text": [
      "The Median Trading Volume during the Year 2017 is : 76600.0\n"
     ]
    }
   ],
   "source": [
    "mid = median(med_sort)\n",
    "print('The Median Trading Volume during the Year 2017 is :', mid)"
   ]
  }
 ],
 "metadata": {
  "kernelspec": {
   "display_name": "Python 3",
   "language": "python",
   "name": "python3"
  },
  "language_info": {
   "codemirror_mode": {
    "name": "ipython",
    "version": 3
   },
   "file_extension": ".py",
   "mimetype": "text/x-python",
   "name": "python",
   "nbconvert_exporter": "python",
   "pygments_lexer": "ipython3",
   "version": "3.8.2"
  }
 },
 "nbformat": 4,
 "nbformat_minor": 2
}
